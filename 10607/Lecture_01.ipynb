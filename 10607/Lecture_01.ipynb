{
 "cells": [
  {
   "cell_type": "markdown",
   "metadata": {},
   "source": [
    "# Propositional Logic\n",
    "\n",
    "Based on [Geoff Gordon's Propositional Logic lecture notes](https://qna.cs.cmu.edu/#/pages/view/143) and [Mary Radcliffe's Propositional Logic lecture notes](http://www.math.cmu.edu/~mradclif/teaching/127S19/Notes/Propositional%20Logic.pdf)\n",
    "\n",
    "Learning Objectives of this lecture:\n",
    "- understand basic elements of propositional logic (propositions, operators).\n",
    "- know inference rules\n",
    "- know additional rules of classical logic\n",
    "- use these to construct proofs\n"
   ]
  },
  {
   "cell_type": "markdown",
   "metadata": {},
   "source": [
    "### Arguments and propositions:\n",
    "\n",
    "We use arguments in our daily life, often in an informal way and skipping over every step. Here we will see how we can use a system of logic in order to write a formal proof.\n",
    "\n",
    "We start with the definition of a proposition as a statment which can be assigned a value of true or false, e.g.:\n",
    "**Socrates is mortal.**\n",
    "\n",
    "\n",
    "Other examples:\n",
    "- 2 is an even number \n",
    "- 3 is an even number\n",
    "\n",
    "These are propositions the first having a value of True, the second having a value of False.\n",
    "\n",
    "What about: \"x is an even number\"? Is that a proposition?\n",
    "\n",
    "We can't tell without context. But if we had a context in which x was defined, we might be able to assign this statement a value and therefore it would be a proposition.\n",
    "\n",
    "\n",
    "### Propositional logic:\n",
    "\n",
    "We refer to a proposition such as **Socrates is mortal** with variables such as $p$,$q$ or $r$. We will define a set of arithmetic operations that will allow us to combine such propositions to build other propositions and write proofs. We have logical connectives $\\vee$, $\\wedge$, $\\neg$, $\\rightarrow$ and $\\iff$. We also have truth values T (sometimes referred to with $\\top$) or F (sometimes referred to with $\\bot$, called falsehood, absurdity or contradiction).\n"
   ]
  },
  {
   "cell_type": "markdown",
   "metadata": {},
   "source": [
    "#### Conjunction (and)\n",
    "Notation: $p\\wedge q$, but also $p\\& q$, $p.q$, $pq$.\n",
    "\n",
    "\n",
    "**$p\\wedge q$ is a proposition that is true when both $p$ and $q$ are true, and false in any other condition.**\n",
    "\n",
    "We can write a truth table enumerating all the possible values of $p$ and $q$ and the resulting value of $p\\wedge q$:\n",
    "\n",
    "\\begin{array}{c|c||c} p & q & p\\wedge q  \\\\ \\hline T & T & T\\\\ T&F&F\\\\F&T&F\\\\F&F&F\\end{array}\n"
   ]
  },
  {
   "cell_type": "markdown",
   "metadata": {},
   "source": [
    "#### Disjunction (or)\n",
    "Notation: $p\\vee q$, but also $p| q$, $p+q$.\n",
    "\n",
    "\n",
    "**$p\\wedge q$ is a proposition that is true when at least one of $p$ or $q$ is true, and false if both $p$ or $q$ are false.**\n",
    "\n",
    "We can write a truth table enumerating all the possible values of $p$ and $q$ and the resulting value of $p\\vee q$:\n",
    "\n",
    "\\begin{array}{c|c||c} p & q & p\\vee q  \\\\ \\hline T & T & T\\\\ T&F&T\\\\F&T&T\\\\F&F&F\\end{array}\n",
    "\n",
    "\n",
    "Question: what is the truth table for the exclusive or $p\\dot\\vee q$ which is false if both $p$ and $q$ are true? When we use \"or\" in English, we actually often mean the exclusive or.\n"
   ]
  },
  {
   "cell_type": "markdown",
   "metadata": {},
   "source": [
    "#### Negation\n",
    "Notation: $\\neg p$, but also $\\bar p$ and $\\text{~} p$.\n",
    "\n",
    "**$\\neg p$ is a proposition that is false when $p$ is true, and true if $p$ is false.**\n",
    "\n",
    "\\begin{array}{c||c} p & \\neg p  \\\\ \\hline T & F\\\\ F& T\\end{array}\n",
    "\n",
    "\n",
    "#### Conditional operator (aka implicative operator)\n",
    "Notation: $p \\rightarrow q$, but also $p \\supset q$.\n",
    "\n",
    "The proposition $p\\rightarrow q$ is false if $p\\wedge(\\neg q)$ is true, and is true otherwise. We can also read $p\\rightarrow q$ as \"$p$ implies $q$\" or \"if $p$, then $q$.\" \n",
    "\n",
    "\\begin{array}{c|c||c} p & p & p\\rightarrow q  \\\\ \\hline T & T & T\\\\ T&F&F\\\\F&T&T\\\\F&F&T\\end{array}\n",
    "\n",
    "\n",
    "The only way for the proposition to fail to be true is in the case that $p$ is true, but $q$ is not. $p\\rightarrow q$ is true in the case that $p$ is false, regardless of what $q$ does.\n",
    "\n",
    "\n",
    "### Note that, by definition and De Morgan's Laws, we can write this as  $ p\\rightarrow q \\equiv \\neg(p\\wedge(\\neg q)) \\equiv (\\neg p)\\vee q,$\n",
    "\n",
    "\n",
    " Let's consider an example. Let $x$ be a positive integer. Consider the following proposition about $x$:\n",
    "- *If $x$ is an odd prime, then $x\\geq 3$.*\n",
    "\n",
    "What happens if $p$ ($x$ is an odd prime) is true? What about when $p$ is false?"
   ]
  },
  {
   "cell_type": "markdown",
   "metadata": {},
   "source": [
    "#### Biconditional Operator (equivalence, if and only if)\n",
    "Notation: $p\\iff q$.\n",
    "\n",
    "\n",
    "The proposition $p\\iff q$ is true if $p$ and $q$ always have the same truth value. \n",
    "\n",
    "\n",
    "\\begin{array}{c|c||c} p & p & p\\iff q  \\\\ \\hline T & T & T\\\\ T&F&F\\\\F&T&F\\\\F&F&T\\end{array}\n",
    "\n",
    "Not different from logical equivalence $p\\equiv q$, but typically use $p\\iff q$ in a context where the statement being true needs to be proved.\n",
    "\n",
    "\n",
    "Exercise: prove that $p\\iff q$ is logically equivalent to $(p\\rightarrow q)\\wedge (q\\rightarrow p)$."
   ]
  },
  {
   "cell_type": "markdown",
   "metadata": {},
   "source": [
    "### Propositional Formulae\n",
    "\n",
    "We can now build more complex propositional formulae, which are proposition constructed using propositional variables and logical operators. \n",
    "\n",
    "Example: represent $x$ is positive and odd, or $x$ is negative and odd.\n",
    "\n",
    "- $p$: $x$ is positive\n",
    "\n",
    "- $q$: $x$ is negative\n",
    "\n",
    "- $r$: $x$ is odd\n",
    "\n",
    "- $(p\\wedge r)\\vee(q\\wedge r)$\n",
    "\n",
    "\n",
    "(it is best to parenthesise to avoid confusion over the order of operations).\n",
    "\n",
    "\\begin{array}{c|c|c||c|c|c} p&q&r&p\\wedge r & q\\wedge r & (p\\wedge r)\\vee (q\\wedge r)\\\\\\hline\n",
    "T&T&T&T&T&T\\\\\n",
    "T&T&F&F&F&F\\\\\n",
    "T&F&T&T&F&T\\\\\n",
    "T&F&F&F&F&F\\\\\n",
    "F&T&T&F&T&T\\\\\n",
    "F&T&F&F&F&F\\\\\n",
    "F&F&T&F&F&F\\\\\n",
    "F&F&F&F&F&F\n",
    "\\end{array}\n",
    "\n",
    "We can see tgat $(p\\wedge r)\\vee (q\\wedge r)$ and $r\\wedge(p\\vee q)$ are logically equivalent.\n"
   ]
  },
  {
   "cell_type": "markdown",
   "metadata": {},
   "source": [
    "## Inference rules and proofs\n",
    "\n",
    "To work with statements in propositional logic, we use inference rules. The most famous of these is probably modus ponens: from premises $p$ and $p→q$, conclude $q$.\n",
    "\n",
    "For example: \"Socrates is a man; if Socrates is a man then Socrates is mortal; therefore Socrates is mortal\", we can write\n",
    "\n",
    "\\begin{array}{ll}\n",
    "\\text{man(Socrates)} & \\text{[assumption]}\\\\\n",
    "\\text{man(Socrates)→mortal(Socrates)}&  \\text{[assumption]}\\\\\n",
    "\\text{mortal(Socrates) }    &    \\text{[modus ponens; 1, 2]}\n",
    "\\end{array}\n",
    "\n",
    "The format above is often called a \"two-column proof\": we write statements in the left column, and their justifications in the right column.\n",
    "\n",
    "### Lemmas\n",
    "The above proof demonstrates the statement\n",
    "\n",
    "man(Socrates)∧(man(Socrates)→mortal(Socrates))→mortal(Socrates) \n",
    "\n",
    "To see why, collect all of the proof's assumptions together with ∧, take the last line of the proof as the final conclusion, and write \"assumptions → conclusion\".  (We could actually have taken any line of the proof as the conclusion, but conventionally we put the conclusion last.)\n",
    "\n",
    "This process — summarizing a proof or part of a proof by collecting together its assumptions and conclusion — is called \"implication introduction\" or \"proving a lemma\".  \n",
    "\n",
    "To go with implication introduction, modus ponens is sometimes called \"implication elimination.\"\n",
    "\n",
    "### Other inference rules\n",
    "There are lots of useful inference rules besides implication introduction and implication elimination.  For example:\n",
    "\n",
    "- $\\wedge$ introduction: if we separately prove $p$ and $q$, then that constitutes a proof of $p \\wedge q$.\n",
    "- $\\wedge$ elimination: from $p\\wedge q$ we can conclude either of $p$ and $q$ separately.\n",
    "- $\\vee$ introduction: from $p$ we can conclude $p\\vee q$ for any $q$.\n",
    "- $\\vee$ elimination (also called proof by cases): if we know $p\\vee q$ (the cases) and we have both $p\\vee r$  and $p\\vee r$  (the case-specific proofs), then we can conclude $r$.\n",
    "- T introduction: we can conclude T from no assumptions.\n",
    "- F elimination: from F we can conclude an arbitrary formula $p$. \n",
    "- Associativity: both $\\wedge$ and $\\vee$ are associative: it doesn't matter how we parenthesize an expression like $a\\wedge b\\wedge c\\wedge d$. (So in fact we often just leave the parentheses out in such cases. But when having $\\vee$ and $\\wedge$ together, it's a good idea to keep the parentheses.)\n",
    "- Distributivity: $\\wedge$ and $\\vee$ distribute over one another; for example, $a\\wedge(b\\vee c)$  is equivalent to $(a\\vee b)\\wedge(a\\vee c)$.\n",
    "- Commutativity: both $\\wedge$ and $\\vee$ are commutative (symmetric in the order of their arguments), so we can re-order their arguments however we please.  For example, $a\\wedge b\\wedge c$ is equivalent to $c\\wedge b\\wedge a$.\n",
    "\n",
    "#### Exercise:\n",
    "Prove: $(a\\wedge b)\\rightarrow(b\\wedge a)$\n",
    "\n"
   ]
  },
  {
   "cell_type": "code",
   "execution_count": null,
   "metadata": {
    "collapsed": true
   },
   "outputs": [],
   "source": []
  }
 ],
 "metadata": {
  "kernelspec": {
   "display_name": "Python 3",
   "language": "python",
   "name": "python3"
  },
  "language_info": {
   "codemirror_mode": {
    "name": "ipython",
    "version": 3
   },
   "file_extension": ".py",
   "mimetype": "text/x-python",
   "name": "python",
   "nbconvert_exporter": "python",
   "pygments_lexer": "ipython3",
   "version": "3.7.0"
  }
 },
 "nbformat": 4,
 "nbformat_minor": 2
}
