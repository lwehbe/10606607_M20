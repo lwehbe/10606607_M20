{
 "cells": [
  {
   "cell_type": "markdown",
   "metadata": {},
   "source": [
    "# Data Structures for ML\n",
    "\n",
    "Lecture based on [The Tree Data Model chapter by Al Aho and Jeff Ullman](http://infolab.stanford.edu/~ullman/focs/ch05.pdf) and [the data structure lecture by Matt Gormley](http://www.cs.cmu.edu/~mgormley/courses/606-607-f18/slides607/lecture9-structures.pdf). You can lookup specific data structures on [www.geeksforgeeks.org](www.geeksforgeeks.org) for more information. "
   ]
  },
  {
   "cell_type": "markdown",
   "metadata": {},
   "source": [
    "- Abstractions\n",
    "    - List\n",
    "    - Set\n",
    "    - Map\n",
    "    - Queue (FIFO)\n",
    "    - Stack (LIFO)\n",
    "    - Graph\n",
    "    - Priority queue\n",
    "\n",
    "- Data Structures\n",
    "    - Array (fixed size)\n",
    "    - Array (variable size)\n",
    "    - Linked List\n",
    "    - Doubly-Linked List\n",
    "    - Multidimensional Array\n",
    "    - Tensor\n",
    "    - Hash Map\n",
    "    - Binary Search Tree\n",
    "    - Balanced Tree\n",
    "    - Trie\n",
    "    - Stack\n",
    "    - Heap\n",
    "    - Graph\n",
    "    - Bipartite Graph\n"
   ]
  },
  {
   "cell_type": "markdown",
   "metadata": {},
   "source": [
    "#### Data representation examples:\n",
    "- Dense feature vector (array)​\n",
    "- Sparse feature vector (sparse vector)​\n",
    "- Design matrix (multidimensional array)​"
   ]
  },
  {
   "cell_type": "code",
   "execution_count": 1,
   "metadata": {},
   "outputs": [
    {
     "name": "stdout",
     "output_type": "stream",
     "text": [
      "[[0. 0. 0. 0. 0.]\n",
      " [0. 0. 3. 0. 0.]\n",
      " [0. 0. 0. 0. 0.]\n",
      " [0. 0. 4. 1. 0.]]\n",
      "  (1, 2)\t3.0\n",
      "  (3, 2)\t4.0\n",
      "  (3, 3)\t1.0\n"
     ]
    }
   ],
   "source": [
    "from scipy import sparse\n",
    "from scipy.stats import uniform\n",
    "import numpy as np\n",
    "\n",
    "# COOordinate sparse matrix.\n",
    "\n",
    "d = np.zeros((4,5))\n",
    "d[3,2] = 4\n",
    "d[3,3] = 1\n",
    "d[1,2] = 3\n",
    "\n",
    "print(d)\n",
    "\n",
    "a = sparse.coo_matrix(d)\n",
    "print(a)"
   ]
  },
  {
   "cell_type": "markdown",
   "metadata": {},
   "source": [
    "#### Model examples:\n",
    "\n",
    "- Decision Trees (tree)\n",
    "\n",
    "- Bayesian Network (directed acyclic graph)\n",
    "\n",
    "- Factor Graph (bipartite graph)\n",
    "\n",
    "\n",
    "#### Binary Tree\n",
    "\n",
    "- Representation\n",
    "- Depth First Search\n",
    "    - pre-order traversal (Access current node, left subtree, right subtree)\n",
    "    - in-order traversal (Access  left subtree, current node, right subtree)\n",
    "    - post-order traversal (Access  left subtree, right subtree, current node)\n",
    "- Breadth First Search\n",
    "\n",
    "Example: Decision Tree  "
   ]
  },
  {
   "cell_type": "code",
   "execution_count": 2,
   "metadata": {},
   "outputs": [],
   "source": [
    "class BTree:\n",
    "    def __init__(self, v, l=None, r=None):\n",
    "        assert type(l) == BTree or l==None\n",
    "        assert type(r) == BTree or r==None\n",
    "        self.value = v\n",
    "        self.left = l\n",
    "        self.right = r\n",
    "    def is_leaf(self):\n",
    "        return self.left==None and self.right==None\n",
    "    def print_value(self):\n",
    "        print(self.value)\n",
    "\n",
    "# make a binary tree, starting with subtrees\n",
    "D = BTree('D',BTree('C'),BTree('E'))\n",
    "B = BTree('B',BTree('A'),D)\n",
    "I = BTree('I',BTree('H'))\n",
    "G = BTree('G',None,I)\n",
    "BT = BTree('F',B,G)"
   ]
  },
  {
   "cell_type": "code",
   "execution_count": 3,
   "metadata": {},
   "outputs": [],
   "source": [
    "node_A = BTree('A')\n",
    "\n",
    "node_C = BTree('C')\n",
    "node_E = BTree('E')\n",
    "node_D = BTree('D', node_C, node_E)\n"
   ]
  },
  {
   "cell_type": "code",
   "execution_count": 9,
   "metadata": {},
   "outputs": [
    {
     "name": "stdout",
     "output_type": "stream",
     "text": [
      "A\n",
      "B\n",
      "C\n",
      "D\n",
      "E\n",
      "F\n",
      "G\n",
      "H\n",
      "I\n"
     ]
    }
   ],
   "source": [
    "def Depth_first_search_recusive(tree):\n",
    "    if tree.left!=None:\n",
    "        Depth_first_search_recusive(tree.left)\n",
    "    print(tree.value)    \n",
    "    if tree.right!=None:\n",
    "        Depth_first_search_recusive(tree.right)\n",
    "    return\n",
    "\n",
    "Depth_first_search_recusive(BT)  "
   ]
  },
  {
   "cell_type": "code",
   "execution_count": 11,
   "metadata": {},
   "outputs": [
    {
     "name": "stdout",
     "output_type": "stream",
     "text": [
      "A\n",
      "B\n",
      "C\n",
      "D\n",
      "E\n",
      "F\n",
      "G\n",
      "H\n",
      "I\n"
     ]
    }
   ],
   "source": [
    "def Depth_first_search_recusive(tree, traversal='pre-order'):\n",
    "    if traversal=='pre-order':\n",
    "        print(tree.value)\n",
    "    if tree.left!=None:\n",
    "        Depth_first_search_recusive(tree.left, \n",
    "                                    traversal= traversal)\n",
    "    if traversal=='in-order':\n",
    "        print(tree.value)\n",
    "    if tree.right!=None:\n",
    "        Depth_first_search_recusive(tree.right,\n",
    "                                   traversal= traversal)\n",
    "    if traversal=='post-order':\n",
    "        print(tree.value)\n",
    "    return\n",
    "\n",
    "Depth_first_search_recusive(BT,traversal='in-order')  "
   ]
  },
  {
   "cell_type": "code",
   "execution_count": 12,
   "metadata": {},
   "outputs": [
    {
     "name": "stdout",
     "output_type": "stream",
     "text": [
      "F\n",
      "B\n",
      "A\n",
      "D\n",
      "C\n",
      "E\n",
      "G\n",
      "I\n",
      "H\n"
     ]
    }
   ],
   "source": [
    "def Depth_first_search_iterative(root):\n",
    "    s = [] # use a list as a stack\n",
    "    s.append(root)\n",
    "    while (len(s)>0):\n",
    "        t=s.pop()\n",
    "        if t == None:\n",
    "            continue\n",
    "        print(t.value)\n",
    "        s.append(t.right)\n",
    "        s.append(t.left)\n",
    "        \n",
    "\n",
    "\n",
    "Depth_first_search_iterative(BT)  "
   ]
  },
  {
   "cell_type": "code",
   "execution_count": 13,
   "metadata": {},
   "outputs": [
    {
     "name": "stdout",
     "output_type": "stream",
     "text": [
      "F\n",
      "B\n",
      "G\n",
      "A\n",
      "D\n",
      "I\n",
      "C\n",
      "E\n",
      "H\n"
     ]
    }
   ],
   "source": [
    "# use a queue instead of stack for BFS, can also be implemented with a python list\n",
    "\n",
    "def Breadth_first_search_iterative(root):\n",
    "    s = [] # use a list as a queue\n",
    "    s.append(root)\n",
    "    while (len(s)>0):\n",
    "        t=s.pop(0) # now this is a queue\n",
    "        if t == None:\n",
    "            continue\n",
    "        print(t.value)\n",
    "        s.append(t.left)\n",
    "        s.append(t.right)\n",
    "        \n",
    "\n",
    "\n",
    "Breadth_first_search_iterative(BT)  "
   ]
  },
  {
   "cell_type": "markdown",
   "metadata": {},
   "source": [
    "#### Weighted Directed Acyclic Graph\n",
    "\n",
    "- Representation (nodes and edges, in adjancency matrices or lists)\n",
    "- Greedy Search\n",
    "- Dijkstra’s Algorithm"
   ]
  },
  {
   "cell_type": "code",
   "execution_count": 29,
   "metadata": {},
   "outputs": [
    {
     "data": {
      "text/plain": [
       "(array([0., 7., 5., 4., 7.]), [nan, 2, 0, 0, 3])"
      ]
     },
     "execution_count": 29,
     "metadata": {},
     "output_type": "execute_result"
    }
   ],
   "source": [
    "def Dijkstra(Graph, source):\n",
    "    n = Graph.shape[0]\n",
    "    dist = np.zeros(n) + np.inf\n",
    "    prev = [np.nan]*n\n",
    "    Q = [i for i in range(n)]\n",
    "    dist[source] = 0\n",
    "    \n",
    "    while len(Q)>0:\n",
    "        distances = [dist[i] for i in Q] # min in remaining nodes\n",
    "        u = Q[np.argmin(distances)]\n",
    "        Q.pop(np.argmin(distances)) # remove u\n",
    "        \n",
    "        # for each neighbor of v still in Q\n",
    "        neighbors = np.where(Graph[u]>0)[0]\n",
    "        for v in neighbors:\n",
    "            if v in Q:\n",
    "                new_dist = dist[u] + Graph[u,v]\n",
    "                if new_dist<dist[v]:\n",
    "                    dist[v] = new_dist\n",
    "                    prev[v] = u\n",
    "    return dist, prev\n",
    "    \n",
    "\n",
    "adjacency_matrix = np.array([[0,10,5,4,0],\n",
    "                             [10,0,2,0,0],\n",
    "                             [5,2,0,0,7],\n",
    "                             [4,0,0,0,3],\n",
    "                             [0,0,7,3,0]])\n",
    "\n",
    "Dijkstra(adjacency_matrix, 0)"
   ]
  },
  {
   "cell_type": "markdown",
   "metadata": {},
   "source": [
    "####  Binary Search Tree\n",
    "\n",
    "- Representation\n",
    "- Average vs. Worst Case Time Complexity\n",
    "- Search\n",
    "- Insertion\n",
    "- Deletion"
   ]
  },
  {
   "cell_type": "code",
   "execution_count": null,
   "metadata": {
    "collapsed": true
   },
   "outputs": [],
   "source": []
  }
 ],
 "metadata": {
  "kernelspec": {
   "display_name": "Python 3",
   "language": "python",
   "name": "python3"
  },
  "language_info": {
   "codemirror_mode": {
    "name": "ipython",
    "version": 3
   },
   "file_extension": ".py",
   "mimetype": "text/x-python",
   "name": "python",
   "nbconvert_exporter": "python",
   "pygments_lexer": "ipython3",
   "version": "3.7.0"
  }
 },
 "nbformat": 4,
 "nbformat_minor": 1
}
